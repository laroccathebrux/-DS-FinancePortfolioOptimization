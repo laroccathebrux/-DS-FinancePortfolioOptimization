{
  "nbformat": 4,
  "nbformat_minor": 0,
  "metadata": {
    "colab": {
      "name": "Finance Portfolio Optimization.ipynb",
      "provenance": [],
      "authorship_tag": "ABX9TyO7cXjjyeJ6TtOLX9IyerVr",
      "include_colab_link": true
    },
    "kernelspec": {
      "name": "python3",
      "display_name": "Python 3"
    }
  },
  "cells": [
    {
      "cell_type": "markdown",
      "metadata": {
        "id": "view-in-github",
        "colab_type": "text"
      },
      "source": [
        "<a href=\"https://colab.research.google.com/github/laroccathebrux/-DS-FinancePortfolioOptimization/blob/main/Finance_Portfolio_Optimization.ipynb\" target=\"_parent\"><img src=\"https://colab.research.google.com/assets/colab-badge.svg\" alt=\"Open In Colab\"/></a>"
      ]
    },
    {
      "cell_type": "code",
      "metadata": {
        "id": "qtjh7peOQhoX"
      },
      "source": [
        "from pandas_datareader import data as web\n",
        "import pandas as pd\n",
        "import numpy as np\n",
        "from datetime import datetime\n",
        "import matplotlib.pyplot as plt\n",
        "plt.style.use('fivethirtyeight')"
      ],
      "execution_count": 1,
      "outputs": []
    },
    {
      "cell_type": "code",
      "metadata": {
        "id": "XBmQKlSJRCKO"
      },
      "source": [
        "assets = ['FB', 'AMZN', 'AAPL', 'NFLX', 'SAP', 'TSLA', 'IBM', 'DELL', 'MSFT', 'ORCL']"
      ],
      "execution_count": 2,
      "outputs": []
    },
    {
      "cell_type": "code",
      "metadata": {
        "id": "Zclu7JTsRqxl",
        "colab": {
          "base_uri": "https://localhost:8080/"
        },
        "outputId": "7c059f1c-fa3a-448d-cef5-08a54825721d"
      },
      "source": [
        "weights = np.array(['0.1', '0.1', '0.1', '0.1', '0.1', '0.1', '0.1', '0.1', '0.1', '0.1'], dtype='float')\n",
        "weights"
      ],
      "execution_count": 3,
      "outputs": [
        {
          "output_type": "execute_result",
          "data": {
            "text/plain": [
              "array([0.1, 0.1, 0.1, 0.1, 0.1, 0.1, 0.1, 0.1, 0.1, 0.1])"
            ]
          },
          "metadata": {
            "tags": []
          },
          "execution_count": 3
        }
      ]
    },
    {
      "cell_type": "code",
      "metadata": {
        "id": "O5--scVtSJrd",
        "colab": {
          "base_uri": "https://localhost:8080/",
          "height": 35
        },
        "outputId": "7935c1e1-172b-4869-bcf8-7574b0d9ab25"
      },
      "source": [
        "stockStartDate = '2013-01-01'\n",
        "today = datetime.today().strftime('%Y-%m-%d')\n",
        "stockDays = 253\n",
        "today"
      ],
      "execution_count": 4,
      "outputs": [
        {
          "output_type": "execute_result",
          "data": {
            "application/vnd.google.colaboratory.intrinsic+json": {
              "type": "string"
            },
            "text/plain": [
              "'2021-02-02'"
            ]
          },
          "metadata": {
            "tags": []
          },
          "execution_count": 4
        }
      ]
    },
    {
      "cell_type": "code",
      "metadata": {
        "id": "bldeWrBJS20Z"
      },
      "source": [
        "df = pd.DataFrame()\n",
        "\n",
        "for stock in assets:\n",
        "  df[stock] = web.DataReader(stock, data_source='yahoo', start = stockStartDate, end = today)['Adj Close']"
      ],
      "execution_count": 5,
      "outputs": []
    },
    {
      "cell_type": "code",
      "metadata": {
        "id": "ZeEqi6wITiIe",
        "colab": {
          "base_uri": "https://localhost:8080/",
          "height": 446
        },
        "outputId": "f8cce1f9-d5a2-40b1-e2e5-4759d76c243c"
      },
      "source": [
        "df"
      ],
      "execution_count": 6,
      "outputs": [
        {
          "output_type": "execute_result",
          "data": {
            "text/html": [
              "<div>\n",
              "<style scoped>\n",
              "    .dataframe tbody tr th:only-of-type {\n",
              "        vertical-align: middle;\n",
              "    }\n",
              "\n",
              "    .dataframe tbody tr th {\n",
              "        vertical-align: top;\n",
              "    }\n",
              "\n",
              "    .dataframe thead th {\n",
              "        text-align: right;\n",
              "    }\n",
              "</style>\n",
              "<table border=\"1\" class=\"dataframe\">\n",
              "  <thead>\n",
              "    <tr style=\"text-align: right;\">\n",
              "      <th></th>\n",
              "      <th>FB</th>\n",
              "      <th>AMZN</th>\n",
              "      <th>AAPL</th>\n",
              "      <th>NFLX</th>\n",
              "      <th>SAP</th>\n",
              "      <th>TSLA</th>\n",
              "      <th>IBM</th>\n",
              "      <th>DELL</th>\n",
              "      <th>MSFT</th>\n",
              "      <th>ORCL</th>\n",
              "    </tr>\n",
              "    <tr>\n",
              "      <th>Date</th>\n",
              "      <th></th>\n",
              "      <th></th>\n",
              "      <th></th>\n",
              "      <th></th>\n",
              "      <th></th>\n",
              "      <th></th>\n",
              "      <th></th>\n",
              "      <th></th>\n",
              "      <th></th>\n",
              "      <th></th>\n",
              "    </tr>\n",
              "  </thead>\n",
              "  <tbody>\n",
              "    <tr>\n",
              "      <th>2013-01-02</th>\n",
              "      <td>28.000000</td>\n",
              "      <td>257.309998</td>\n",
              "      <td>17.065252</td>\n",
              "      <td>13.144286</td>\n",
              "      <td>72.977722</td>\n",
              "      <td>7.072000</td>\n",
              "      <td>146.482193</td>\n",
              "      <td>NaN</td>\n",
              "      <td>23.180780</td>\n",
              "      <td>30.801588</td>\n",
              "    </tr>\n",
              "    <tr>\n",
              "      <th>2013-01-03</th>\n",
              "      <td>27.770000</td>\n",
              "      <td>258.480011</td>\n",
              "      <td>16.849854</td>\n",
              "      <td>13.798571</td>\n",
              "      <td>71.250694</td>\n",
              "      <td>6.954000</td>\n",
              "      <td>145.676483</td>\n",
              "      <td>NaN</td>\n",
              "      <td>22.870243</td>\n",
              "      <td>30.464188</td>\n",
              "    </tr>\n",
              "    <tr>\n",
              "      <th>2013-01-04</th>\n",
              "      <td>28.760000</td>\n",
              "      <td>259.149994</td>\n",
              "      <td>16.380499</td>\n",
              "      <td>13.711429</td>\n",
              "      <td>71.224129</td>\n",
              "      <td>6.880000</td>\n",
              "      <td>144.721558</td>\n",
              "      <td>NaN</td>\n",
              "      <td>22.442219</td>\n",
              "      <td>30.730547</td>\n",
              "    </tr>\n",
              "    <tr>\n",
              "      <th>2013-01-07</th>\n",
              "      <td>29.420000</td>\n",
              "      <td>268.459991</td>\n",
              "      <td>16.284145</td>\n",
              "      <td>14.171429</td>\n",
              "      <td>70.666168</td>\n",
              "      <td>6.868000</td>\n",
              "      <td>144.087433</td>\n",
              "      <td>NaN</td>\n",
              "      <td>22.400255</td>\n",
              "      <td>30.570730</td>\n",
              "    </tr>\n",
              "    <tr>\n",
              "      <th>2013-01-08</th>\n",
              "      <td>29.059999</td>\n",
              "      <td>266.380005</td>\n",
              "      <td>16.327972</td>\n",
              "      <td>13.880000</td>\n",
              "      <td>70.754738</td>\n",
              "      <td>6.736000</td>\n",
              "      <td>143.886032</td>\n",
              "      <td>NaN</td>\n",
              "      <td>22.282753</td>\n",
              "      <td>30.579615</td>\n",
              "    </tr>\n",
              "    <tr>\n",
              "      <th>...</th>\n",
              "      <td>...</td>\n",
              "      <td>...</td>\n",
              "      <td>...</td>\n",
              "      <td>...</td>\n",
              "      <td>...</td>\n",
              "      <td>...</td>\n",
              "      <td>...</td>\n",
              "      <td>...</td>\n",
              "      <td>...</td>\n",
              "      <td>...</td>\n",
              "    </tr>\n",
              "    <tr>\n",
              "      <th>2021-01-26</th>\n",
              "      <td>282.049988</td>\n",
              "      <td>3326.129883</td>\n",
              "      <td>143.160004</td>\n",
              "      <td>561.929993</td>\n",
              "      <td>134.880005</td>\n",
              "      <td>883.090027</td>\n",
              "      <td>122.489998</td>\n",
              "      <td>76.040001</td>\n",
              "      <td>232.330002</td>\n",
              "      <td>61.799999</td>\n",
              "    </tr>\n",
              "    <tr>\n",
              "      <th>2021-01-27</th>\n",
              "      <td>272.140015</td>\n",
              "      <td>3232.580078</td>\n",
              "      <td>142.059998</td>\n",
              "      <td>523.280029</td>\n",
              "      <td>132.190002</td>\n",
              "      <td>864.159973</td>\n",
              "      <td>122.470001</td>\n",
              "      <td>73.860001</td>\n",
              "      <td>232.899994</td>\n",
              "      <td>62.549999</td>\n",
              "    </tr>\n",
              "    <tr>\n",
              "      <th>2021-01-28</th>\n",
              "      <td>265.000000</td>\n",
              "      <td>3237.620117</td>\n",
              "      <td>137.089996</td>\n",
              "      <td>538.599976</td>\n",
              "      <td>130.440002</td>\n",
              "      <td>835.429993</td>\n",
              "      <td>120.080002</td>\n",
              "      <td>73.919998</td>\n",
              "      <td>238.929993</td>\n",
              "      <td>61.220001</td>\n",
              "    </tr>\n",
              "    <tr>\n",
              "      <th>2021-01-29</th>\n",
              "      <td>258.329987</td>\n",
              "      <td>3206.199951</td>\n",
              "      <td>131.960007</td>\n",
              "      <td>532.390015</td>\n",
              "      <td>126.199997</td>\n",
              "      <td>793.530029</td>\n",
              "      <td>119.110001</td>\n",
              "      <td>72.889999</td>\n",
              "      <td>231.960007</td>\n",
              "      <td>60.430000</td>\n",
              "    </tr>\n",
              "    <tr>\n",
              "      <th>2021-02-01</th>\n",
              "      <td>262.010010</td>\n",
              "      <td>3342.879883</td>\n",
              "      <td>134.139999</td>\n",
              "      <td>539.039978</td>\n",
              "      <td>129.559998</td>\n",
              "      <td>839.809998</td>\n",
              "      <td>120.540001</td>\n",
              "      <td>73.949997</td>\n",
              "      <td>239.649994</td>\n",
              "      <td>61.509998</td>\n",
              "    </tr>\n",
              "  </tbody>\n",
              "</table>\n",
              "<p>2035 rows × 10 columns</p>\n",
              "</div>"
            ],
            "text/plain": [
              "                    FB         AMZN  ...        MSFT       ORCL\n",
              "Date                                 ...                       \n",
              "2013-01-02   28.000000   257.309998  ...   23.180780  30.801588\n",
              "2013-01-03   27.770000   258.480011  ...   22.870243  30.464188\n",
              "2013-01-04   28.760000   259.149994  ...   22.442219  30.730547\n",
              "2013-01-07   29.420000   268.459991  ...   22.400255  30.570730\n",
              "2013-01-08   29.059999   266.380005  ...   22.282753  30.579615\n",
              "...                ...          ...  ...         ...        ...\n",
              "2021-01-26  282.049988  3326.129883  ...  232.330002  61.799999\n",
              "2021-01-27  272.140015  3232.580078  ...  232.899994  62.549999\n",
              "2021-01-28  265.000000  3237.620117  ...  238.929993  61.220001\n",
              "2021-01-29  258.329987  3206.199951  ...  231.960007  60.430000\n",
              "2021-02-01  262.010010  3342.879883  ...  239.649994  61.509998\n",
              "\n",
              "[2035 rows x 10 columns]"
            ]
          },
          "metadata": {
            "tags": []
          },
          "execution_count": 6
        }
      ]
    },
    {
      "cell_type": "code",
      "metadata": {
        "id": "AOzlUBt_UcjN",
        "colab": {
          "base_uri": "https://localhost:8080/",
          "height": 293
        },
        "outputId": "e306aada-12b7-46a5-feb2-498e1e10264b"
      },
      "source": [
        "title = 'Portfolio Adj. Close Price History'\n",
        "\n",
        "for c in df.columns.values:\n",
        "  plt.plot(df[c], label=c)\n",
        "\n",
        "plt.title(title)\n",
        "plt.xlabel('Date', fontsize=10)\n",
        "plt.ylabel('Adj. Price USD ($)', fontsize=10)\n",
        "plt.legend(df.columns.values, loc='upper left')\n",
        "plt.show()"
      ],
      "execution_count": 7,
      "outputs": [
        {
          "output_type": "display_data",
          "data": {
            "image/png": "[encoded data removed]",
            "text/plain": [
              "<Figure size 432x288 with 1 Axes>"
            ]
          },
          "metadata": {
            "tags": [],
            "needs_background": "light"
          }
        }
      ]
    },
    {
      "cell_type": "code",
      "metadata": {
        "id": "wa9rieZDVfFk",
        "colab": {
          "base_uri": "https://localhost:8080/",
          "height": 446
        },
        "outputId": "a1fff55a-4aae-4220-d5c3-5056059ba79a"
      },
      "source": [
        "returns = df.pct_change()\n",
        "returns"
      ],
      "execution_count": 8,
      "outputs": [
        {
          "output_type": "execute_result",
          "data": {
            "text/html": [
              "<div>\n",
              "<style scoped>\n",
              "    .dataframe tbody tr th:only-of-type {\n",
              "        vertical-align: middle;\n",
              "    }\n",
              "\n",
              "    .dataframe tbody tr th {\n",
              "        vertical-align: top;\n",
              "    }\n",
              "\n",
              "    .dataframe thead th {\n",
              "        text-align: right;\n",
              "    }\n",
              "</style>\n",
              "<table border=\"1\" class=\"dataframe\">\n",
              "  <thead>\n",
              "    <tr style=\"text-align: right;\">\n",
              "      <th></th>\n",
              "      <th>FB</th>\n",
              "      <th>AMZN</th>\n",
              "      <th>AAPL</th>\n",
              "      <th>NFLX</th>\n",
              "      <th>SAP</th>\n",
              "      <th>TSLA</th>\n",
              "      <th>IBM</th>\n",
              "      <th>DELL</th>\n",
              "      <th>MSFT</th>\n",
              "      <th>ORCL</th>\n",
              "    </tr>\n",
              "    <tr>\n",
              "      <th>Date</th>\n",
              "      <th></th>\n",
              "      <th></th>\n",
              "      <th></th>\n",
              "      <th></th>\n",
              "      <th></th>\n",
              "      <th></th>\n",
              "      <th></th>\n",
              "      <th></th>\n",
              "      <th></th>\n",
              "      <th></th>\n",
              "    </tr>\n",
              "  </thead>\n",
              "  <tbody>\n",
              "    <tr>\n",
              "      <th>2013-01-02</th>\n",
              "      <td>NaN</td>\n",
              "      <td>NaN</td>\n",
              "      <td>NaN</td>\n",
              "      <td>NaN</td>\n",
              "      <td>NaN</td>\n",
              "      <td>NaN</td>\n",
              "      <td>NaN</td>\n",
              "      <td>NaN</td>\n",
              "      <td>NaN</td>\n",
              "      <td>NaN</td>\n",
              "    </tr>\n",
              "    <tr>\n",
              "      <th>2013-01-03</th>\n",
              "      <td>-0.008214</td>\n",
              "      <td>0.004547</td>\n",
              "      <td>-0.012622</td>\n",
              "      <td>0.049777</td>\n",
              "      <td>-0.023665</td>\n",
              "      <td>-0.016686</td>\n",
              "      <td>-0.005500</td>\n",
              "      <td>NaN</td>\n",
              "      <td>-0.013396</td>\n",
              "      <td>-0.010954</td>\n",
              "    </tr>\n",
              "    <tr>\n",
              "      <th>2013-01-04</th>\n",
              "      <td>0.035650</td>\n",
              "      <td>0.002592</td>\n",
              "      <td>-0.027855</td>\n",
              "      <td>-0.006315</td>\n",
              "      <td>-0.000373</td>\n",
              "      <td>-0.010641</td>\n",
              "      <td>-0.006555</td>\n",
              "      <td>NaN</td>\n",
              "      <td>-0.018715</td>\n",
              "      <td>0.008743</td>\n",
              "    </tr>\n",
              "    <tr>\n",
              "      <th>2013-01-07</th>\n",
              "      <td>0.022949</td>\n",
              "      <td>0.035925</td>\n",
              "      <td>-0.005882</td>\n",
              "      <td>0.033549</td>\n",
              "      <td>-0.007834</td>\n",
              "      <td>-0.001744</td>\n",
              "      <td>-0.004382</td>\n",
              "      <td>NaN</td>\n",
              "      <td>-0.001870</td>\n",
              "      <td>-0.005201</td>\n",
              "    </tr>\n",
              "    <tr>\n",
              "      <th>2013-01-08</th>\n",
              "      <td>-0.012237</td>\n",
              "      <td>-0.007748</td>\n",
              "      <td>0.002691</td>\n",
              "      <td>-0.020565</td>\n",
              "      <td>0.001253</td>\n",
              "      <td>-0.019220</td>\n",
              "      <td>-0.001398</td>\n",
              "      <td>NaN</td>\n",
              "      <td>-0.005246</td>\n",
              "      <td>0.000291</td>\n",
              "    </tr>\n",
              "    <tr>\n",
              "      <th>...</th>\n",
              "      <td>...</td>\n",
              "      <td>...</td>\n",
              "      <td>...</td>\n",
              "      <td>...</td>\n",
              "      <td>...</td>\n",
              "      <td>...</td>\n",
              "      <td>...</td>\n",
              "      <td>...</td>\n",
              "      <td>...</td>\n",
              "      <td>...</td>\n",
              "    </tr>\n",
              "    <tr>\n",
              "      <th>2021-01-26</th>\n",
              "      <td>0.014532</td>\n",
              "      <td>0.009754</td>\n",
              "      <td>0.001679</td>\n",
              "      <td>0.009250</td>\n",
              "      <td>0.040500</td>\n",
              "      <td>0.002600</td>\n",
              "      <td>0.032973</td>\n",
              "      <td>0.004757</td>\n",
              "      <td>0.012199</td>\n",
              "      <td>0.014778</td>\n",
              "    </tr>\n",
              "    <tr>\n",
              "      <th>2021-01-27</th>\n",
              "      <td>-0.035136</td>\n",
              "      <td>-0.028126</td>\n",
              "      <td>-0.007684</td>\n",
              "      <td>-0.068781</td>\n",
              "      <td>-0.019944</td>\n",
              "      <td>-0.021436</td>\n",
              "      <td>-0.000163</td>\n",
              "      <td>-0.028669</td>\n",
              "      <td>0.002453</td>\n",
              "      <td>0.012136</td>\n",
              "    </tr>\n",
              "    <tr>\n",
              "      <th>2021-01-28</th>\n",
              "      <td>-0.026237</td>\n",
              "      <td>0.001559</td>\n",
              "      <td>-0.034985</td>\n",
              "      <td>0.029277</td>\n",
              "      <td>-0.013239</td>\n",
              "      <td>-0.033246</td>\n",
              "      <td>-0.019515</td>\n",
              "      <td>0.000812</td>\n",
              "      <td>0.025891</td>\n",
              "      <td>-0.021263</td>\n",
              "    </tr>\n",
              "    <tr>\n",
              "      <th>2021-01-29</th>\n",
              "      <td>-0.025170</td>\n",
              "      <td>-0.009705</td>\n",
              "      <td>-0.037421</td>\n",
              "      <td>-0.011530</td>\n",
              "      <td>-0.032505</td>\n",
              "      <td>-0.050154</td>\n",
              "      <td>-0.008078</td>\n",
              "      <td>-0.013934</td>\n",
              "      <td>-0.029172</td>\n",
              "      <td>-0.012904</td>\n",
              "    </tr>\n",
              "    <tr>\n",
              "      <th>2021-02-01</th>\n",
              "      <td>0.014245</td>\n",
              "      <td>0.042630</td>\n",
              "      <td>0.016520</td>\n",
              "      <td>0.012491</td>\n",
              "      <td>0.026624</td>\n",
              "      <td>0.058322</td>\n",
              "      <td>0.012006</td>\n",
              "      <td>0.014542</td>\n",
              "      <td>0.033152</td>\n",
              "      <td>0.017872</td>\n",
              "    </tr>\n",
              "  </tbody>\n",
              "</table>\n",
              "<p>2035 rows × 10 columns</p>\n",
              "</div>"
            ],
            "text/plain": [
              "                  FB      AMZN      AAPL  ...      DELL      MSFT      ORCL\n",
              "Date                                      ...                              \n",
              "2013-01-02       NaN       NaN       NaN  ...       NaN       NaN       NaN\n",
              "2013-01-03 -0.008214  0.004547 -0.012622  ...       NaN -0.013396 -0.010954\n",
              "2013-01-04  0.035650  0.002592 -0.027855  ...       NaN -0.018715  0.008743\n",
              "2013-01-07  0.022949  0.035925 -0.005882  ...       NaN -0.001870 -0.005201\n",
              "2013-01-08 -0.012237 -0.007748  0.002691  ...       NaN -0.005246  0.000291\n",
              "...              ...       ...       ...  ...       ...       ...       ...\n",
              "2021-01-26  0.014532  0.009754  0.001679  ...  0.004757  0.012199  0.014778\n",
              "2021-01-27 -0.035136 -0.028126 -0.007684  ... -0.028669  0.002453  0.012136\n",
              "2021-01-28 -0.026237  0.001559 -0.034985  ...  0.000812  0.025891 -0.021263\n",
              "2021-01-29 -0.025170 -0.009705 -0.037421  ... -0.013934 -0.029172 -0.012904\n",
              "2021-02-01  0.014245  0.042630  0.016520  ...  0.014542  0.033152  0.017872\n",
              "\n",
              "[2035 rows x 10 columns]"
            ]
          },
          "metadata": {
            "tags": []
          },
          "execution_count": 8
        }
      ]
    },
    {
      "cell_type": "code",
      "metadata": {
        "id": "z-hDeuTwWRIV",
        "colab": {
          "base_uri": "https://localhost:8080/",
          "height": 355
        },
        "outputId": "a1e0559c-788b-44c2-d585-eb04a654a3b5"
      },
      "source": [
        "cov_matrix_annual = returns.cov() * stockDays\n",
        "cov_matrix_annual"
      ],
      "execution_count": 9,
      "outputs": [
        {
          "output_type": "execute_result",
          "data": {
            "text/html": [
              "<div>\n",
              "<style scoped>\n",
              "    .dataframe tbody tr th:only-of-type {\n",
              "        vertical-align: middle;\n",
              "    }\n",
              "\n",
              "    .dataframe tbody tr th {\n",
              "        vertical-align: top;\n",
              "    }\n",
              "\n",
              "    .dataframe thead th {\n",
              "        text-align: right;\n",
              "    }\n",
              "</style>\n",
              "<table border=\"1\" class=\"dataframe\">\n",
              "  <thead>\n",
              "    <tr style=\"text-align: right;\">\n",
              "      <th></th>\n",
              "      <th>FB</th>\n",
              "      <th>AMZN</th>\n",
              "      <th>AAPL</th>\n",
              "      <th>NFLX</th>\n",
              "      <th>SAP</th>\n",
              "      <th>TSLA</th>\n",
              "      <th>IBM</th>\n",
              "      <th>DELL</th>\n",
              "      <th>MSFT</th>\n",
              "      <th>ORCL</th>\n",
              "    </tr>\n",
              "  </thead>\n",
              "  <tbody>\n",
              "    <tr>\n",
              "      <th>FB</th>\n",
              "      <td>0.119368</td>\n",
              "      <td>0.055493</td>\n",
              "      <td>0.045482</td>\n",
              "      <td>0.057502</td>\n",
              "      <td>0.032604</td>\n",
              "      <td>0.058574</td>\n",
              "      <td>0.024500</td>\n",
              "      <td>0.045519</td>\n",
              "      <td>0.044230</td>\n",
              "      <td>0.030919</td>\n",
              "    </tr>\n",
              "    <tr>\n",
              "      <th>AMZN</th>\n",
              "      <td>0.055493</td>\n",
              "      <td>0.094485</td>\n",
              "      <td>0.040351</td>\n",
              "      <td>0.064604</td>\n",
              "      <td>0.031217</td>\n",
              "      <td>0.057014</td>\n",
              "      <td>0.023449</td>\n",
              "      <td>0.040701</td>\n",
              "      <td>0.045947</td>\n",
              "      <td>0.027738</td>\n",
              "    </tr>\n",
              "    <tr>\n",
              "      <th>AAPL</th>\n",
              "      <td>0.045482</td>\n",
              "      <td>0.040351</td>\n",
              "      <td>0.082613</td>\n",
              "      <td>0.035848</td>\n",
              "      <td>0.031847</td>\n",
              "      <td>0.050541</td>\n",
              "      <td>0.027855</td>\n",
              "      <td>0.050062</td>\n",
              "      <td>0.044577</td>\n",
              "      <td>0.031867</td>\n",
              "    </tr>\n",
              "    <tr>\n",
              "      <th>NFLX</th>\n",
              "      <td>0.057502</td>\n",
              "      <td>0.064604</td>\n",
              "      <td>0.035848</td>\n",
              "      <td>0.214547</td>\n",
              "      <td>0.030280</td>\n",
              "      <td>0.074481</td>\n",
              "      <td>0.023428</td>\n",
              "      <td>0.044285</td>\n",
              "      <td>0.045979</td>\n",
              "      <td>0.031816</td>\n",
              "    </tr>\n",
              "    <tr>\n",
              "      <th>SAP</th>\n",
              "      <td>0.032604</td>\n",
              "      <td>0.031217</td>\n",
              "      <td>0.031847</td>\n",
              "      <td>0.030280</td>\n",
              "      <td>0.064779</td>\n",
              "      <td>0.036688</td>\n",
              "      <td>0.029884</td>\n",
              "      <td>0.046161</td>\n",
              "      <td>0.035507</td>\n",
              "      <td>0.032292</td>\n",
              "    </tr>\n",
              "    <tr>\n",
              "      <th>TSLA</th>\n",
              "      <td>0.058574</td>\n",
              "      <td>0.057014</td>\n",
              "      <td>0.050541</td>\n",
              "      <td>0.074481</td>\n",
              "      <td>0.036688</td>\n",
              "      <td>0.317127</td>\n",
              "      <td>0.030189</td>\n",
              "      <td>0.066058</td>\n",
              "      <td>0.050704</td>\n",
              "      <td>0.031493</td>\n",
              "    </tr>\n",
              "    <tr>\n",
              "      <th>IBM</th>\n",
              "      <td>0.024500</td>\n",
              "      <td>0.023449</td>\n",
              "      <td>0.027855</td>\n",
              "      <td>0.023428</td>\n",
              "      <td>0.029884</td>\n",
              "      <td>0.030189</td>\n",
              "      <td>0.056622</td>\n",
              "      <td>0.044914</td>\n",
              "      <td>0.031270</td>\n",
              "      <td>0.031100</td>\n",
              "    </tr>\n",
              "    <tr>\n",
              "      <th>DELL</th>\n",
              "      <td>0.045519</td>\n",
              "      <td>0.040701</td>\n",
              "      <td>0.050062</td>\n",
              "      <td>0.044285</td>\n",
              "      <td>0.046161</td>\n",
              "      <td>0.066058</td>\n",
              "      <td>0.044914</td>\n",
              "      <td>0.132223</td>\n",
              "      <td>0.052284</td>\n",
              "      <td>0.041537</td>\n",
              "    </tr>\n",
              "    <tr>\n",
              "      <th>MSFT</th>\n",
              "      <td>0.044230</td>\n",
              "      <td>0.045947</td>\n",
              "      <td>0.044577</td>\n",
              "      <td>0.045979</td>\n",
              "      <td>0.035507</td>\n",
              "      <td>0.050704</td>\n",
              "      <td>0.031270</td>\n",
              "      <td>0.052284</td>\n",
              "      <td>0.070626</td>\n",
              "      <td>0.036703</td>\n",
              "    </tr>\n",
              "    <tr>\n",
              "      <th>ORCL</th>\n",
              "      <td>0.030919</td>\n",
              "      <td>0.027738</td>\n",
              "      <td>0.031867</td>\n",
              "      <td>0.031816</td>\n",
              "      <td>0.032292</td>\n",
              "      <td>0.031493</td>\n",
              "      <td>0.031100</td>\n",
              "      <td>0.041537</td>\n",
              "      <td>0.036703</td>\n",
              "      <td>0.059513</td>\n",
              "    </tr>\n",
              "  </tbody>\n",
              "</table>\n",
              "</div>"
            ],
            "text/plain": [
              "            FB      AMZN      AAPL  ...      DELL      MSFT      ORCL\n",
              "FB    0.119368  0.055493  0.045482  ...  0.045519  0.044230  0.030919\n",
              "AMZN  0.055493  0.094485  0.040351  ...  0.040701  0.045947  0.027738\n",
              "AAPL  0.045482  0.040351  0.082613  ...  0.050062  0.044577  0.031867\n",
              "NFLX  0.057502  0.064604  0.035848  ...  0.044285  0.045979  0.031816\n",
              "SAP   0.032604  0.031217  0.031847  ...  0.046161  0.035507  0.032292\n",
              "TSLA  0.058574  0.057014  0.050541  ...  0.066058  0.050704  0.031493\n",
              "IBM   0.024500  0.023449  0.027855  ...  0.044914  0.031270  0.031100\n",
              "DELL  0.045519  0.040701  0.050062  ...  0.132223  0.052284  0.041537\n",
              "MSFT  0.044230  0.045947  0.044577  ...  0.052284  0.070626  0.036703\n",
              "ORCL  0.030919  0.027738  0.031867  ...  0.041537  0.036703  0.059513\n",
              "\n",
              "[10 rows x 10 columns]"
            ]
          },
          "metadata": {
            "tags": []
          },
          "execution_count": 9
        }
      ]
    },
    {
      "cell_type": "code",
      "metadata": {
        "id": "-HGzH5ChWspb",
        "colab": {
          "base_uri": "https://localhost:8080/"
        },
        "outputId": "4388ee7e-c93d-48ad-d379-6bd063f7a5ee"
      },
      "source": [
        "port_variance = np.dot(weights.T, np.dot(cov_matrix_annual, weights))\n",
        "port_variance"
      ],
      "execution_count": 10,
      "outputs": [
        {
          "output_type": "execute_result",
          "data": {
            "text/plain": [
              "0.04902892940324741"
            ]
          },
          "metadata": {
            "tags": []
          },
          "execution_count": 10
        }
      ]
    },
    {
      "cell_type": "code",
      "metadata": {
        "id": "Rh8htWEUZkOa",
        "colab": {
          "base_uri": "https://localhost:8080/"
        },
        "outputId": "6a787dfa-59da-40d6-d660-8ac262804a22"
      },
      "source": [
        "port_volatility = np.sqrt(port_variance)\n",
        "port_volatility"
      ],
      "execution_count": 11,
      "outputs": [
        {
          "output_type": "execute_result",
          "data": {
            "text/plain": [
              "0.22142477143094763"
            ]
          },
          "metadata": {
            "tags": []
          },
          "execution_count": 11
        }
      ]
    },
    {
      "cell_type": "code",
      "metadata": {
        "id": "alCvxqO2Z4wJ",
        "colab": {
          "base_uri": "https://localhost:8080/"
        },
        "outputId": "2a005c72-5c7f-4ecd-9588-e988bb382c24"
      },
      "source": [
        "portfolioSimpleAnnualReturn = np.sum(returns.mean() * weights) * stockDays\n",
        "portfolioSimpleAnnualReturn"
      ],
      "execution_count": 12,
      "outputs": [
        {
          "output_type": "execute_result",
          "data": {
            "text/plain": [
              "0.31925703720153653"
            ]
          },
          "metadata": {
            "tags": []
          },
          "execution_count": 12
        }
      ]
    },
    {
      "cell_type": "code",
      "metadata": {
        "id": "sQYq0SX1af2o",
        "colab": {
          "base_uri": "https://localhost:8080/"
        },
        "outputId": "988c4505-52d5-498d-dd0c-a315f6cc5733"
      },
      "source": [
        "percent_var = str(round(port_variance, 2) * 100) + '%'\n",
        "percent_vol = str(round(port_volatility, 2) * 100) + '%'\n",
        "percent_ret = str(round(portfolioSimpleAnnualReturn, 2) * 100) + '%'\n",
        "\n",
        "print('Expected annual return: ' + percent_ret)\n",
        "print('Annual Volatility / Risk: ' + percent_vol)\n",
        "print('Annual Variance: ' + percent_var)"
      ],
      "execution_count": 13,
      "outputs": [
        {
          "output_type": "stream",
          "text": [
            "Expected annual return: 32.0%\n",
            "Annual Volatility / Risk: 22.0%\n",
            "Annual Variance: 5.0%\n"
          ],
          "name": "stdout"
        }
      ]
    },
    {
      "cell_type": "code",
      "metadata": {
        "id": "GwVw77n5cVlJ",
        "colab": {
          "base_uri": "https://localhost:8080/"
        },
        "outputId": "831e74f9-f06c-43dd-95fa-c44bddcf2c75"
      },
      "source": [
        "pip install PyPortfolioOpt"
      ],
      "execution_count": 14,
      "outputs": [
        {
          "output_type": "stream",
          "text": [
            "Collecting PyPortfolioOpt\n",
            "\u001b[?25l  Downloading https://files.pythonhosted.org/packages/cc/db/4a17dce7950b403cbc8c47b60b336b740689f006846b2e5e78195e12fe2d/PyPortfolioOpt-1.3.1-py3-none-any.whl (53kB)\n",
            "\r\u001b[K     |██████▏                         | 10kB 14.6MB/s eta 0:00:01\r\u001b[K     |████████████▍                   | 20kB 10.1MB/s eta 0:00:01\r\u001b[K     |██████████████████▌             | 30kB 6.8MB/s eta 0:00:01\r\u001b[K     |████████████████████████▊       | 40kB 3.1MB/s eta 0:00:01\r\u001b[K     |███████████████████████████████ | 51kB 3.7MB/s eta 0:00:01\r\u001b[K     |████████████████████████████████| 61kB 2.7MB/s \n",
            "\u001b[?25hRequirement already satisfied: cvxopt!=1.2.5.post1,<2.0,>=1.2 in /usr/local/lib/python3.6/dist-packages (from PyPortfolioOpt) (1.2.5)\n",
            "Requirement already satisfied: scipy<2.0,>=1.3 in /usr/local/lib/python3.6/dist-packages (from PyPortfolioOpt) (1.4.1)\n",
            "Requirement already satisfied: pandas>=0.19 in /usr/local/lib/python3.6/dist-packages (from PyPortfolioOpt) (1.1.5)\n",
            "Requirement already satisfied: cvxpy<2.0,>=1.0 in /usr/local/lib/python3.6/dist-packages (from PyPortfolioOpt) (1.0.31)\n",
            "Requirement already satisfied: numpy<2.0,>=1.12 in /usr/local/lib/python3.6/dist-packages (from PyPortfolioOpt) (1.19.5)\n",
            "Requirement already satisfied: python-dateutil>=2.7.3 in /usr/local/lib/python3.6/dist-packages (from pandas>=0.19->PyPortfolioOpt) (2.8.1)\n",
            "Requirement already satisfied: pytz>=2017.2 in /usr/local/lib/python3.6/dist-packages (from pandas>=0.19->PyPortfolioOpt) (2018.9)\n",
            "Requirement already satisfied: osqp>=0.4.1 in /usr/local/lib/python3.6/dist-packages (from cvxpy<2.0,>=1.0->PyPortfolioOpt) (0.6.2.post0)\n",
            "Requirement already satisfied: scs>=1.1.3 in /usr/local/lib/python3.6/dist-packages (from cvxpy<2.0,>=1.0->PyPortfolioOpt) (2.1.2)\n",
            "Requirement already satisfied: multiprocess in /usr/local/lib/python3.6/dist-packages (from cvxpy<2.0,>=1.0->PyPortfolioOpt) (0.70.11.1)\n",
            "Requirement already satisfied: ecos>=2 in /usr/local/lib/python3.6/dist-packages (from cvxpy<2.0,>=1.0->PyPortfolioOpt) (2.0.7.post1)\n",
            "Requirement already satisfied: six>=1.5 in /usr/local/lib/python3.6/dist-packages (from python-dateutil>=2.7.3->pandas>=0.19->PyPortfolioOpt) (1.15.0)\n",
            "Requirement already satisfied: qdldl in /usr/local/lib/python3.6/dist-packages (from osqp>=0.4.1->cvxpy<2.0,>=1.0->PyPortfolioOpt) (0.1.5.post0)\n",
            "Requirement already satisfied: dill>=0.3.3 in /usr/local/lib/python3.6/dist-packages (from multiprocess->cvxpy<2.0,>=1.0->PyPortfolioOpt) (0.3.3)\n",
            "Installing collected packages: PyPortfolioOpt\n",
            "Successfully installed PyPortfolioOpt-1.3.1\n"
          ],
          "name": "stdout"
        }
      ]
    },
    {
      "cell_type": "code",
      "metadata": {
        "id": "-N3mmMuacgE5"
      },
      "source": [
        "from pypfopt.efficient_frontier import EfficientFrontier\n",
        "from pypfopt import risk_models\n",
        "from pypfopt import expected_returns"
      ],
      "execution_count": 15,
      "outputs": []
    },
    {
      "cell_type": "code",
      "metadata": {
        "id": "IdxUksIudBur",
        "colab": {
          "base_uri": "https://localhost:8080/"
        },
        "outputId": "bc47b1f2-ddd0-4ab7-9472-83108f2a86de"
      },
      "source": [
        "mu = expected_returns.mean_historical_return(df)\n",
        "S = risk_models.sample_cov(df)\n",
        "\n",
        "ef = EfficientFrontier(mu, S)\n",
        "weights = ef.max_sharpe()\n",
        "cleaned_weights = ef.clean_weights()\n",
        "print(cleaned_weights)\n",
        "ef.portfolio_performance(verbose=True)"
      ],
      "execution_count": 16,
      "outputs": [
        {
          "output_type": "stream",
          "text": [
            "OrderedDict([('FB', 0.0), ('AMZN', 0.14598), ('AAPL', 0.06635), ('NFLX', 0.2362), ('SAP', 0.0), ('TSLA', 0.28826), ('IBM', 0.0), ('DELL', 0.0), ('MSFT', 0.26321), ('ORCL', 0.0)])\n",
            "Expected annual return: 53.3%\n",
            "Annual volatility: 29.5%\n",
            "Sharpe Ratio: 1.74\n"
          ],
          "name": "stdout"
        },
        {
          "output_type": "execute_result",
          "data": {
            "text/plain": [
              "(0.532963430325561, 0.2949237633677039, 1.7393085740805854)"
            ]
          },
          "metadata": {
            "tags": []
          },
          "execution_count": 16
        }
      ]
    },
    {
      "cell_type": "code",
      "metadata": {
        "id": "YXAlB1b3f5uS",
        "colab": {
          "base_uri": "https://localhost:8080/"
        },
        "outputId": "bcec0616-0bea-42cd-a1c4-20180523666a"
      },
      "source": [
        "from pypfopt.discrete_allocation import DiscreteAllocation, get_latest_prices\n",
        "\n",
        "latest_prices = get_latest_prices(df)\n",
        "weights = cleaned_weights\n",
        "da = DiscreteAllocation(weights, latest_prices, total_portfolio_value=100000)\n",
        "\n",
        "allocation, leftover = da.lp_portfolio()\n",
        "print('Discrete Allocation: ', allocation)\n",
        "print('Funds remaining: ${:.2f}'.format(leftover))"
      ],
      "execution_count": 17,
      "outputs": [
        {
          "output_type": "stream",
          "text": [
            "Discrete Allocation:  {'AMZN': 4, 'AAPL': 50, 'NFLX': 44, 'TSLA': 35, 'MSFT': 110}\n",
            "Funds remaining: $448.87\n"
          ],
          "name": "stdout"
        }
      ]
    }
  ]
}